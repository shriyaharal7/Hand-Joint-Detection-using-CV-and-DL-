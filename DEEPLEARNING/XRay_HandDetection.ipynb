{
 "cells": [
  {
   "cell_type": "markdown",
   "id": "d3583edb",
   "metadata": {},
   "source": [
    "# XRay Hand Detection using Tensorflow"
   ]
  },
  {
   "cell_type": "markdown",
   "id": "08763715",
   "metadata": {},
   "source": [
    "## Label Preprocessing"
   ]
  },
  {
   "cell_type": "code",
   "execution_count": 2,
   "id": "b365ddd5",
   "metadata": {},
   "outputs": [],
   "source": [
    "\n",
    "import os\n",
    "import cv2\n",
    "import numpy as np\n",
    "\n",
    "folder_path = '/Users/sanjeev/Official/Projects/XRay_Detection/XRay_JointDetection/'\n",
    "process_files = os.listdir(folder_path)\n",
    "\n",
    "image_file_paths = []\n",
    "labels = []\n",
    "for file in process_files:\n",
    "    file_path = folder_path+file\n",
    "    if os.path.isfile(file_path):\n",
    "        try:\n",
    "            img = cv2.imread(file_path)\n",
    "            image_x, image_y, _ = img.shape\n",
    "            temp_label = []\n",
    "            with open(f'/Users/sanjeev/Downloads/txt of 3577 cases/txt/{file[:-4]}_v06.txt', 'r') as fil:                \n",
    "                image_file_paths += [file_path]\n",
    "                lis = fil.readlines()[1:]\n",
    "                x_lis = []\n",
    "                y_lis = []\n",
    "                r_lis = []\n",
    "                for line in lis:\n",
    "                    x, y, r = tuple(map(lambda x: float(x), line[:-1].split(' ')[1:]))\n",
    "                    x_lis+=[x/image_x]\n",
    "                    y_lis+=[y/image_y]\n",
    "                    r_lis+=[r]\n",
    "            temp_label+=[x_lis, y_lis, r_lis]\n",
    "            labels+=[temp_label]\n",
    "        except Exception as e:\n",
    "            pass\n",
    "labels = np.array(labels)"
   ]
  },
  {
   "cell_type": "code",
   "execution_count": 3,
   "id": "5e048ccd",
   "metadata": {},
   "outputs": [],
   "source": [
    "import numpy as np\n",
    "labels = np.array(labels)"
   ]
  },
  {
   "cell_type": "code",
   "execution_count": 4,
   "id": "ecc4fd38",
   "metadata": {},
   "outputs": [
    {
     "data": {
      "text/plain": [
       "(2473, 1)"
      ]
     },
     "execution_count": 4,
     "metadata": {},
     "output_type": "execute_result"
    }
   ],
   "source": [
    "image_file_paths = np.array(image_file_paths).reshape((-1,1))\n",
    "image_file_paths.shape"
   ]
  },
  {
   "cell_type": "code",
   "execution_count": 5,
   "id": "1b5c326f",
   "metadata": {},
   "outputs": [
    {
     "data": {
      "text/plain": [
       "(2473, 3, 12)"
      ]
     },
     "execution_count": 5,
     "metadata": {},
     "output_type": "execute_result"
    }
   ],
   "source": [
    "labels.shape"
   ]
  },
  {
   "cell_type": "code",
   "execution_count": 6,
   "id": "89f46e40",
   "metadata": {},
   "outputs": [],
   "source": [
    "import numpy as np\n",
    "\n",
    "# Save labels to a CSV file\n",
    "np.savetxt('/Users/sanjeev/Official/Projects/XRay_Detection/XRay_JointDetection/labels.csv', labels.reshape((labels.shape[0], -1)), delimiter=',')"
   ]
  },
  {
   "cell_type": "markdown",
   "id": "6a2d71de",
   "metadata": {},
   "source": [
    "## Initialize Data Loader"
   ]
  },
  {
   "cell_type": "code",
   "execution_count": 7,
   "id": "81bf0c73",
   "metadata": {},
   "outputs": [
    {
     "name": "stderr",
     "output_type": "stream",
     "text": [
      "2023-12-19 12:16:55.761043: I metal_plugin/src/device/metal_device.cc:1154] Metal device set to: Apple M2\n",
      "2023-12-19 12:16:55.761071: I metal_plugin/src/device/metal_device.cc:296] systemMemory: 8.00 GB\n",
      "2023-12-19 12:16:55.761079: I metal_plugin/src/device/metal_device.cc:313] maxCacheSize: 2.67 GB\n",
      "2023-12-19 12:16:55.761147: I tensorflow/core/common_runtime/pluggable_device/pluggable_device_factory.cc:306] Could not identify NUMA node of platform GPU ID 0, defaulting to 0. Your kernel may not have been built with NUMA support.\n",
      "2023-12-19 12:16:55.761511: I tensorflow/core/common_runtime/pluggable_device/pluggable_device_factory.cc:272] Created TensorFlow device (/job:localhost/replica:0/task:0/device:GPU:0 with 0 MB memory) -> physical PluggableDevice (device: 0, name: METAL, pci bus id: <undefined>)\n"
     ]
    }
   ],
   "source": [
    "import tensorflow as tf\n",
    "from tensorflow.keras.preprocessing.image import img_to_array, load_img\n",
    "from sklearn.model_selection import train_test_split\n",
    "\n",
    "def preprocess_image(file_path, label):\n",
    "    # Read and decode the image\n",
    "    img = tf.io.read_file(file_path)\n",
    "    img = tf.image.decode_image(img, channels=1)\n",
    "    \n",
    "    img.set_shape([None, None, 1])\n",
    "    # Resize the image to the desired dimensions (e.g., 224x224)\n",
    "    img = tf.image.resize(img, [224, 224])\n",
    "#     # Convert the pixel values to the range [0, 1]\n",
    "    img = tf.image.convert_image_dtype(img, tf.float32)\n",
    "    img = img/255.\n",
    "    \n",
    "    return img, label\n",
    "\n",
    "batch_size = 32\n",
    "test_size = 0.2\n",
    "\n",
    "total_images = len(image_file_paths)\n",
    "train_count = int(total_images - (total_images * test_size))\n",
    "\n",
    "train_paths = image_file_paths[:train_count]\n",
    "train_labels = labels[:train_count]\n",
    "\n",
    "val_paths = image_file_paths[train_count:]\n",
    "val_labels = labels[train_count:]\n",
    "\n",
    "# Create tf.data.Dataset for train set\n",
    "train_dataset = tf.data.Dataset.from_tensor_slices((train_paths, train_labels))\n",
    "train_dataset = train_dataset.map(lambda x, y: (tf.squeeze(x), y))\n",
    "train_dataset = train_dataset.map(lambda x, y: preprocess_image(x, y))\n",
    "train_dataset = train_dataset.shuffle(buffer_size=len(train_paths)).batch(batch_size)\n",
    "\n",
    "# Create tf.data.Dataset for validation set\n",
    "val_dataset = tf.data.Dataset.from_tensor_slices((val_paths, val_labels))\n",
    "val_dataset = val_dataset.map(lambda x, y: (tf.squeeze(x), y))\n",
    "val_dataset = val_dataset.map(lambda x, y: preprocess_image(x, y))\n",
    "val_dataset = val_dataset.batch(batch_size)"
   ]
  },
  {
   "cell_type": "code",
   "execution_count": 8,
   "id": "1b4d4f43",
   "metadata": {},
   "outputs": [],
   "source": [
    "del image_file_paths, labels"
   ]
  },
  {
   "cell_type": "markdown",
   "id": "f8bc9939",
   "metadata": {},
   "source": [
    "## Tensorflow Model Training"
   ]
  },
  {
   "cell_type": "code",
   "execution_count": 9,
   "id": "89941e53",
   "metadata": {},
   "outputs": [],
   "source": [
    "import tensorflow as tf\n",
    "from tensorflow.keras.datasets import cifar10\n",
    "from tensorflow.keras.models import Sequential\n",
    "from tensorflow.keras import layers, applications\n",
    "from tensorflow.keras import regularizers\n",
    "from tensorflow.keras import initializers, activations\n",
    "from tensorflow.keras.metrics import Accuracy, Precision, Recall, AUC\n",
    "from tensorflow.keras.preprocessing.image import ImageDataGenerator\n",
    "from tensorflow.keras.callbacks import ModelCheckpoint\n",
    "import keras.regularizers as reg\n",
    "import seaborn as sns\n",
    "import numpy as np\n",
    "import pickle\n",
    "import os"
   ]
  },
  {
   "cell_type": "code",
   "execution_count": 10,
   "id": "bf817e2d",
   "metadata": {},
   "outputs": [],
   "source": [
    "def custom_activation(x):\n",
    "    x1, x2, x3= tf.split(x, num_or_size_splits=3, axis=1)\n",
    "    y1 = activations.sigmoid(x1)\n",
    "    y2 = activations.sigmoid(x2)\n",
    "    y3 = 4* activations.tanh(x3)\n",
    "    return tf.concat([y1, y2, y3], axis=1)"
   ]
  },
  {
   "cell_type": "code",
   "execution_count": 11,
   "id": "927b791d",
   "metadata": {},
   "outputs": [],
   "source": [
    "model = tf.keras.Sequential([\n",
    "    \n",
    "    layers.Input((224, 224, 1)),\n",
    "    \n",
    "    layers.Conv2D(32, (3, 3), padding='same', kernel_regularizer=reg.l2(1e-3)),\n",
    "    layers.BatchNormalization(),\n",
    "    layers.ReLU(),\n",
    "    layers.Dropout(0.3),\n",
    "    layers.MaxPooling2D(2,2),\n",
    "    layers.Conv2D(32, (3, 3), padding='same', kernel_regularizer=reg.l2(1e-3)),\n",
    "    layers.BatchNormalization(),\n",
    "    layers.ReLU(),\n",
    "    layers.Dropout(0.3),\n",
    "    layers.MaxPooling2D(2,2),\n",
    "\n",
    "    layers.Conv2D(64, (3, 3), padding='same', kernel_regularizer=reg.l2(1e-3)),\n",
    "    layers.BatchNormalization(),\n",
    "    layers.ReLU(),\n",
    "    layers.Dropout(0.4),\n",
    "    layers.MaxPooling2D(2,2),\n",
    "    layers.Conv2D(64, (3, 3), padding='same', kernel_regularizer=reg.l2(1e-3)),\n",
    "    layers.BatchNormalization(),\n",
    "    layers.ReLU(),\n",
    "    layers.Dropout(0.4),\n",
    "    layers.MaxPooling2D(2,2),\n",
    "\n",
    "    layers.Conv2D(128, (3, 3), padding='same', kernel_regularizer=reg.l2(1e-3)),\n",
    "    layers.BatchNormalization(),\n",
    "    layers.ReLU(),\n",
    "    layers.Dropout(0.5),\n",
    "    layers.MaxPooling2D(2,2),\n",
    "    layers.Conv2D(128, (3, 3), padding='same', kernel_regularizer=reg.l2(1e-3)),\n",
    "    layers.BatchNormalization(),\n",
    "    layers.ReLU(),\n",
    "    layers.Dropout(0.5),\n",
    "    layers.MaxPooling2D(2,2),\n",
    "\n",
    "    # Flatten the input\n",
    "    layers.GlobalAveragePooling2D(),\n",
    "\n",
    "    # Dense layers\n",
    "    layers.Dense(1024, kernel_regularizer=reg.l2(1e-3)),\n",
    "    layers.BatchNormalization(),\n",
    "    layers.ReLU(),\n",
    "    layers.Dropout(0.5),\n",
    "    layers.Dense(1024, kernel_regularizer=reg.l2(1e-3)),\n",
    "    layers.BatchNormalization(),\n",
    "    layers.ReLU(),\n",
    "    layers.Dropout(0.5),\n",
    "    # Add the first fully connected layer with 4 packs of 3 neurons\n",
    "    layers.Dense(12 * 3, activation=custom_activation),\n",
    "    layers.Reshape((3,12))\n",
    "])\n"
   ]
  },
  {
   "cell_type": "code",
   "execution_count": 12,
   "id": "7cad93ca",
   "metadata": {
    "scrolled": true
   },
   "outputs": [
    {
     "name": "stdout",
     "output_type": "stream",
     "text": [
      "Model: \"sequential\"\n",
      "_________________________________________________________________\n",
      " Layer (type)                Output Shape              Param #   \n",
      "=================================================================\n",
      " conv2d (Conv2D)             (None, 224, 224, 32)      320       \n",
      "                                                                 \n",
      " batch_normalization (Batch  (None, 224, 224, 32)      128       \n",
      " Normalization)                                                  \n",
      "                                                                 \n",
      " re_lu (ReLU)                (None, 224, 224, 32)      0         \n",
      "                                                                 \n",
      " dropout (Dropout)           (None, 224, 224, 32)      0         \n",
      "                                                                 \n",
      " max_pooling2d (MaxPooling2  (None, 112, 112, 32)      0         \n",
      " D)                                                              \n",
      "                                                                 \n",
      " conv2d_1 (Conv2D)           (None, 112, 112, 32)      9248      \n",
      "                                                                 \n",
      " batch_normalization_1 (Bat  (None, 112, 112, 32)      128       \n",
      " chNormalization)                                                \n",
      "                                                                 \n",
      " re_lu_1 (ReLU)              (None, 112, 112, 32)      0         \n",
      "                                                                 \n",
      " dropout_1 (Dropout)         (None, 112, 112, 32)      0         \n",
      "                                                                 \n",
      " max_pooling2d_1 (MaxPoolin  (None, 56, 56, 32)        0         \n",
      " g2D)                                                            \n",
      "                                                                 \n",
      " conv2d_2 (Conv2D)           (None, 56, 56, 64)        18496     \n",
      "                                                                 \n",
      " batch_normalization_2 (Bat  (None, 56, 56, 64)        256       \n",
      " chNormalization)                                                \n",
      "                                                                 \n",
      " re_lu_2 (ReLU)              (None, 56, 56, 64)        0         \n",
      "                                                                 \n",
      " dropout_2 (Dropout)         (None, 56, 56, 64)        0         \n",
      "                                                                 \n",
      " max_pooling2d_2 (MaxPoolin  (None, 28, 28, 64)        0         \n",
      " g2D)                                                            \n",
      "                                                                 \n",
      " conv2d_3 (Conv2D)           (None, 28, 28, 64)        36928     \n",
      "                                                                 \n",
      " batch_normalization_3 (Bat  (None, 28, 28, 64)        256       \n",
      " chNormalization)                                                \n",
      "                                                                 \n",
      " re_lu_3 (ReLU)              (None, 28, 28, 64)        0         \n",
      "                                                                 \n",
      " dropout_3 (Dropout)         (None, 28, 28, 64)        0         \n",
      "                                                                 \n",
      " max_pooling2d_3 (MaxPoolin  (None, 14, 14, 64)        0         \n",
      " g2D)                                                            \n",
      "                                                                 \n",
      " conv2d_4 (Conv2D)           (None, 14, 14, 128)       73856     \n",
      "                                                                 \n",
      " batch_normalization_4 (Bat  (None, 14, 14, 128)       512       \n",
      " chNormalization)                                                \n",
      "                                                                 \n",
      " re_lu_4 (ReLU)              (None, 14, 14, 128)       0         \n",
      "                                                                 \n",
      " dropout_4 (Dropout)         (None, 14, 14, 128)       0         \n",
      "                                                                 \n",
      " max_pooling2d_4 (MaxPoolin  (None, 7, 7, 128)         0         \n",
      " g2D)                                                            \n",
      "                                                                 \n",
      " conv2d_5 (Conv2D)           (None, 7, 7, 128)         147584    \n",
      "                                                                 \n",
      " batch_normalization_5 (Bat  (None, 7, 7, 128)         512       \n",
      " chNormalization)                                                \n",
      "                                                                 \n",
      " re_lu_5 (ReLU)              (None, 7, 7, 128)         0         \n",
      "                                                                 \n",
      " dropout_5 (Dropout)         (None, 7, 7, 128)         0         \n",
      "                                                                 \n",
      " max_pooling2d_5 (MaxPoolin  (None, 3, 3, 128)         0         \n",
      " g2D)                                                            \n",
      "                                                                 \n",
      " global_average_pooling2d (  (None, 128)               0         \n",
      " GlobalAveragePooling2D)                                         \n",
      "                                                                 \n",
      " dense (Dense)               (None, 1024)              132096    \n",
      "                                                                 \n",
      " batch_normalization_6 (Bat  (None, 1024)              4096      \n",
      " chNormalization)                                                \n",
      "                                                                 \n",
      " re_lu_6 (ReLU)              (None, 1024)              0         \n",
      "                                                                 \n",
      " dropout_6 (Dropout)         (None, 1024)              0         \n",
      "                                                                 \n",
      " dense_1 (Dense)             (None, 1024)              1049600   \n",
      "                                                                 \n",
      " batch_normalization_7 (Bat  (None, 1024)              4096      \n",
      " chNormalization)                                                \n",
      "                                                                 \n",
      " re_lu_7 (ReLU)              (None, 1024)              0         \n",
      "                                                                 \n",
      " dropout_7 (Dropout)         (None, 1024)              0         \n",
      "                                                                 \n",
      " dense_2 (Dense)             (None, 36)                36900     \n",
      "                                                                 \n",
      " reshape (Reshape)           (None, 3, 12)             0         \n",
      "                                                                 \n",
      "=================================================================\n",
      "Total params: 1515012 (5.78 MB)\n",
      "Trainable params: 1510020 (5.76 MB)\n",
      "Non-trainable params: 4992 (19.50 KB)\n",
      "_________________________________________________________________\n"
     ]
    }
   ],
   "source": [
    "model.summary()"
   ]
  },
  {
   "cell_type": "code",
   "execution_count": 13,
   "id": "863a1b52",
   "metadata": {},
   "outputs": [],
   "source": [
    "model.compile(optimizer=tf.optimizers.legacy.SGD(learning_rate=0.01, \n",
    "                                                 momentum=0.9), \n",
    "              loss='mean_squared_error', \n",
    "              metrics=['mae'])\n"
   ]
  },
  {
   "cell_type": "code",
   "execution_count": 14,
   "id": "b61b35fe",
   "metadata": {},
   "outputs": [],
   "source": [
    "# Specify the path where you want to save the checkpoints\n",
    "checkpoint_path = '/Users/sanjeev/Official/Projects/XRay_Detection/checkpoints/model_checkpoint_new.h5'\n",
    "\n",
    "# Create a ModelCheckpoint callback\n",
    "checkpoint_callback = ModelCheckpoint(\n",
    "    filepath=checkpoint_path,\n",
    "    save_weights_only=True,\n",
    "    monitor='val_mae',\n",
    "    save_best_only=True,\n",
    "    mode='min'\n",
    ")"
   ]
  },
  {
   "cell_type": "code",
   "execution_count": 15,
   "id": "8d749723",
   "metadata": {
    "scrolled": true
   },
   "outputs": [
    {
     "name": "stdout",
     "output_type": "stream",
     "text": [
      "Epoch 1/20\n"
     ]
    },
    {
     "name": "stderr",
     "output_type": "stream",
     "text": [
      "2023-12-19 12:17:12.089667: I tensorflow/core/grappler/optimizers/custom_graph_optimizer_registry.cc:117] Plugin optimizer for device_type GPU is enabled.\n"
     ]
    },
    {
     "name": "stdout",
     "output_type": "stream",
     "text": [
      "62/62 [==============================] - 24s 209ms/step - loss: 2.8728 - mae: 0.6020 - val_loss: 1.6863 - val_mae: 0.1882\n",
      "Epoch 2/20\n",
      "62/62 [==============================] - 22s 199ms/step - loss: 2.2950 - mae: 0.3721 - val_loss: 1.6031 - val_mae: 0.1176\n",
      "Epoch 3/20\n",
      "62/62 [==============================] - 22s 197ms/step - loss: 2.0895 - mae: 0.2932 - val_loss: 1.5563 - val_mae: 0.0958\n",
      "Epoch 4/20\n",
      "62/62 [==============================] - 22s 196ms/step - loss: 2.0154 - mae: 0.2626 - val_loss: 1.5162 - val_mae: 0.0852\n",
      "Epoch 5/20\n",
      "62/62 [==============================] - 22s 202ms/step - loss: 1.9686 - mae: 0.2514 - val_loss: 1.4855 - val_mae: 0.0941\n",
      "Epoch 6/20\n",
      "62/62 [==============================] - 23s 211ms/step - loss: 1.8924 - mae: 0.2309 - val_loss: 1.4484 - val_mae: 0.0877\n",
      "Epoch 7/20\n",
      "62/62 [==============================] - 22s 199ms/step - loss: 1.8587 - mae: 0.2295 - val_loss: 1.4147 - val_mae: 0.0851\n",
      "Epoch 8/20\n",
      "62/62 [==============================] - 22s 201ms/step - loss: 1.7820 - mae: 0.2107 - val_loss: 1.3810 - val_mae: 0.0849\n",
      "Epoch 9/20\n",
      "62/62 [==============================] - 22s 198ms/step - loss: 1.7330 - mae: 0.2045 - val_loss: 1.3464 - val_mae: 0.0790\n",
      "Epoch 10/20\n",
      "62/62 [==============================] - 22s 193ms/step - loss: 1.7095 - mae: 0.2061 - val_loss: 1.3212 - val_mae: 0.0929\n",
      "Epoch 11/20\n",
      "62/62 [==============================] - 22s 199ms/step - loss: 1.7365 - mae: 0.2233 - val_loss: 1.2878 - val_mae: 0.0839\n",
      "Epoch 12/20\n",
      "62/62 [==============================] - 23s 220ms/step - loss: 1.6362 - mae: 0.1991 - val_loss: 1.2543 - val_mae: 0.0758\n",
      "Epoch 13/20\n",
      "62/62 [==============================] - 23s 207ms/step - loss: 1.6546 - mae: 0.2179 - val_loss: 1.2303 - val_mae: 0.0862\n",
      "Epoch 14/20\n",
      "62/62 [==============================] - 23s 208ms/step - loss: 1.6290 - mae: 0.2195 - val_loss: 1.2036 - val_mae: 0.0908\n",
      "Epoch 15/20\n",
      "62/62 [==============================] - 22s 205ms/step - loss: 1.5860 - mae: 0.2073 - val_loss: 1.1716 - val_mae: 0.0792\n",
      "Epoch 16/20\n",
      "62/62 [==============================] - 22s 205ms/step - loss: 1.5490 - mae: 0.1992 - val_loss: 1.1429 - val_mae: 0.0761\n",
      "Epoch 17/20\n",
      "62/62 [==============================] - 22s 201ms/step - loss: 1.5258 - mae: 0.2051 - val_loss: 1.1171 - val_mae: 0.0784\n",
      "Epoch 18/20\n",
      "62/62 [==============================] - 22s 202ms/step - loss: 1.5300 - mae: 0.2130 - val_loss: 1.0931 - val_mae: 0.0797\n",
      "Epoch 19/20\n",
      "62/62 [==============================] - 22s 206ms/step - loss: 1.4939 - mae: 0.2038 - val_loss: 1.0658 - val_mae: 0.0757\n",
      "Epoch 20/20\n",
      "62/62 [==============================] - 22s 207ms/step - loss: 1.4021 - mae: 0.1888 - val_loss: 1.0435 - val_mae: 0.0808\n"
     ]
    },
    {
     "data": {
      "text/plain": [
       "<keras.src.callbacks.History at 0x29e501350>"
      ]
     },
     "execution_count": 15,
     "metadata": {},
     "output_type": "execute_result"
    }
   ],
   "source": [
    "model.fit(train_dataset,\n",
    "          epochs=20, \n",
    "          steps_per_epoch = len(train_dataset),\n",
    "          validation_data=val_dataset,\n",
    "          callbacks=[checkpoint_callback]\n",
    "         )"
   ]
  },
  {
   "cell_type": "markdown",
   "id": "76c7318e",
   "metadata": {},
   "source": [
    "## Testing"
   ]
  },
  {
   "cell_type": "code",
   "execution_count": 28,
   "id": "b578182e",
   "metadata": {},
   "outputs": [],
   "source": [
    "model_path = \"/Users/sanjeev/Official/Projects/XRay_Detection/checkpoints/model_checkpoint_working.h5\"\n",
    "model.load_weights(model_path)"
   ]
  },
  {
   "cell_type": "code",
   "execution_count": 29,
   "id": "2c7018bd",
   "metadata": {},
   "outputs": [],
   "source": [
    "test_image_path = \"/Users/sanjeev/Official/Projects/XRay_Detection/XRay_JointDetection/9930368.png\""
   ]
  },
  {
   "cell_type": "code",
   "execution_count": 30,
   "id": "8f2535d5",
   "metadata": {},
   "outputs": [],
   "source": [
    "test_image = cv2.imread(test_image_path)"
   ]
  },
  {
   "cell_type": "code",
   "execution_count": 31,
   "id": "fcaf86b0",
   "metadata": {},
   "outputs": [],
   "source": [
    "def preprocess_image(file_path, label):\n",
    "    # Read and decode the image\n",
    "    img = tf.io.read_file(file_path)\n",
    "    img = tf.image.decode_image(img, channels=1)\n",
    "    \n",
    "    img.set_shape([None, None, 1])\n",
    "    # Resize the image to the desired dimensions (e.g., 224x224)\n",
    "    img = tf.image.resize(img, [224, 224])\n",
    "#     # Convert the pixel values to the range [0, 1]\n",
    "    img = tf.image.convert_image_dtype(img, tf.float32)\n",
    "    img = img/255.\n",
    "    \n",
    "    return img, label"
   ]
  },
  {
   "cell_type": "code",
   "execution_count": 32,
   "id": "a887f3f1",
   "metadata": {},
   "outputs": [],
   "source": [
    "img, _ = preprocess_image(test_image_path, \"\")"
   ]
  },
  {
   "cell_type": "code",
   "execution_count": 33,
   "id": "8921357f",
   "metadata": {},
   "outputs": [],
   "source": [
    "img = tf.expand_dims(img, axis=0)"
   ]
  },
  {
   "cell_type": "code",
   "execution_count": 34,
   "id": "ffbed460",
   "metadata": {},
   "outputs": [
    {
     "name": "stdout",
     "output_type": "stream",
     "text": [
      "1/1 [==============================] - 0s 23ms/step\n"
     ]
    },
    {
     "data": {
      "text/plain": [
       "array([[[ 0.32700327,  0.31122077,  0.3193663 ,  0.4264384 ,\n",
       "          0.4283108 ,  0.4396561 ,  0.48758754,  0.50646615,\n",
       "          0.513634  ,  0.5518631 ,  0.6094758 ,  0.6228567 ],\n",
       "        [ 0.58202076,  0.39884835,  0.29712754,  0.56479996,\n",
       "          0.39143834,  0.26321036,  0.6058329 ,  0.43748215,\n",
       "          0.32133293,  0.6457463 ,  0.5234895 ,  0.4517438 ],\n",
       "        [-0.07894792, -0.19784673,  0.00726451, -0.2169294 ,\n",
       "          0.05412253,  0.2036159 ,  0.20095527,  0.27204648,\n",
       "          0.28855932,  0.48824456,  0.48104924,  0.44849697]]],\n",
       "      dtype=float32)"
      ]
     },
     "execution_count": 34,
     "metadata": {},
     "output_type": "execute_result"
    }
   ],
   "source": [
    "output = model.predict(img)\n",
    "output"
   ]
  },
  {
   "cell_type": "code",
   "execution_count": 35,
   "id": "057b4705",
   "metadata": {},
   "outputs": [],
   "source": [
    "image_x, image_y, _ = test_image.shape"
   ]
  },
  {
   "cell_type": "code",
   "execution_count": 36,
   "id": "149c175d",
   "metadata": {},
   "outputs": [
    {
     "data": {
      "text/plain": [
       "(2010, 1670)"
      ]
     },
     "execution_count": 36,
     "metadata": {},
     "output_type": "execute_result"
    }
   ],
   "source": [
    "image_x, image_y"
   ]
  },
  {
   "cell_type": "code",
   "execution_count": 37,
   "id": "cfb36efc",
   "metadata": {},
   "outputs": [],
   "source": [
    "x_cords = output[0][0]*image_x\n",
    "y_cords = output[0][1]*image_y\n",
    "r_vals = output[0][2]"
   ]
  },
  {
   "cell_type": "code",
   "execution_count": 38,
   "id": "128a0127",
   "metadata": {},
   "outputs": [
    {
     "data": {
      "text/plain": [
       "[(677.2765502929688, 871.9746704101562, -0.07894792),\n",
       " (645.5537109375, 566.0767822265625, -0.19784673),\n",
       " (661.92626953125, 396.2030029296875, 0.0072645107),\n",
       " (877.1411743164062, 843.2159423828125, -0.2169294),\n",
       " (880.9047241210938, 553.7020263671875, 0.054122526),\n",
       " (903.7088012695312, 339.5613098144531, 0.2036159),\n",
       " (1000.0509643554688, 911.7409057617188, 0.20095527),\n",
       " (1037.9969482421875, 630.59521484375, 0.27204648),\n",
       " (1052.4044189453125, 436.6259765625, 0.28855932),\n",
       " (1129.2447509765625, 978.3963623046875, 0.48824456),\n",
       " (1245.04638671875, 774.2274169921875, 0.48104924),\n",
       " (1271.94189453125, 654.4121704101562, 0.44849697)]"
      ]
     },
     "execution_count": 38,
     "metadata": {},
     "output_type": "execute_result"
    }
   ],
   "source": [
    "box_points = []\n",
    "for i in range(0,12):\n",
    "    box_points += [(x_cords[i]+20, y_cords[i]-100, r_vals[i])]\n",
    "\n",
    "box_points"
   ]
  },
  {
   "cell_type": "code",
   "execution_count": 39,
   "id": "31eada54",
   "metadata": {},
   "outputs": [
    {
     "data": {
      "image/png": "[encoded data removed]",
      "text/plain": [
       "<Figure size 640x480 with 1 Axes>"
      ]
     },
     "metadata": {},
     "output_type": "display_data"
    }
   ],
   "source": [
    "import cv2\n",
    "import numpy as np\n",
    "\n",
    "# Function to draw a rotated square\n",
    "def draw_rotated_square(image, center, angle_rad, side_length, color=(0, 255, 0), thickness=2):\n",
    "    # Calculate the four corners of the rotated square\n",
    "    \n",
    "    cos_a = np.cos(angle_rad)\n",
    "    sin_a = np.sin(angle_rad)\n",
    "\n",
    "    half_length = side_length / 2\n",
    "    x1 = int(center[0] - half_length * cos_a - half_length * sin_a)\n",
    "    y1 = int(center[1] - half_length * sin_a + half_length * cos_a)\n",
    "    x2 = int(center[0] + half_length * cos_a - half_length * sin_a)\n",
    "    y2 = int(center[1] + half_length * sin_a + half_length * cos_a)\n",
    "    x3 = int(2 * center[0] - x1)\n",
    "    y3 = int(2 * center[1] - y1)\n",
    "    x4 = int(2 * center[0] - x2)\n",
    "    y4 = int(2 * center[1] - y2)\n",
    "\n",
    "    # Draw the rotated square\n",
    "    points = np.array([[x1, y1], [x2, y2],[x3, y3], [x4, y4]], np.int32)\n",
    "    points = points.reshape((-1, 1, 2))\n",
    "    \n",
    "    cv2.circle(image, center, 5, color, thickness=thickness)\n",
    "    cv2.polylines(image, [points], isClosed=True, color=color, thickness=thickness)\n",
    "\n",
    "\n",
    "for box_x, box_y, radian in box_points:\n",
    "\n",
    "    # Center coordinates\n",
    "    center = (int(box_x), int(box_y))\n",
    "\n",
    "    # Side length of the square\n",
    "    side_length = 100\n",
    "\n",
    "    # Draw the rotated square on the image\n",
    "    draw_rotated_square(test_image, center, radian, side_length)\n",
    "\n",
    "import matplotlib.pyplot as plt\n",
    "import matplotlib.image as mpimg\n",
    "\n",
    "\n",
    "# Display the image\n",
    "plt.imshow(test_image)\n",
    "plt.axis('off')  # Turn off axis labels\n",
    "plt.show()\n"
   ]
  },
  {
   "cell_type": "code",
   "execution_count": null,
   "id": "7f0f04d0",
   "metadata": {},
   "outputs": [],
   "source": []
  }
 ],
 "metadata": {
  "kernelspec": {
   "display_name": "Python 3 (ipykernel)",
   "language": "python",
   "name": "python3"
  },
  "language_info": {
   "codemirror_mode": {
    "name": "ipython",
    "version": 3
   },
   "file_extension": ".py",
   "mimetype": "text/x-python",
   "name": "python",
   "nbconvert_exporter": "python",
   "pygments_lexer": "ipython3",
   "version": "3.11.5"
  }
 },
 "nbformat": 4,
 "nbformat_minor": 5
}
